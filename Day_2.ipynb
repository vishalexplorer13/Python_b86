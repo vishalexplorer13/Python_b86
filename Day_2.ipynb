{
 "cells": [
  {
   "cell_type": "code",
   "execution_count": 1,
   "id": "25c2f418-c424-4d42-b655-f76a915fbcfa",
   "metadata": {},
   "outputs": [
    {
     "name": "stdout",
     "output_type": "stream",
     "text": [
      "incredibleindia\n"
     ]
    }
   ],
   "source": [
    "print(\"incredibleindia\")"
   ]
  },
  {
   "cell_type": "code",
   "execution_count": 2,
   "id": "23bf0c9c-918e-489e-a3cc-72454ad48ccd",
   "metadata": {},
   "outputs": [
    {
     "name": "stdout",
     "output_type": "stream",
     "text": [
      "incredible\n",
      "india\n"
     ]
    }
   ],
   "source": [
    "print(\"incredible\\nindia\")"
   ]
  },
  {
   "cell_type": "code",
   "execution_count": 3,
   "id": "1eed5d33-2cfb-4e31-ab87-70d7f957a40f",
   "metadata": {},
   "outputs": [
    {
     "name": "stdout",
     "output_type": "stream",
     "text": [
      "incredible\n",
      "\tindia\n"
     ]
    }
   ],
   "source": [
    "print(\"incredible\\n\\tindia\")"
   ]
  },
  {
   "cell_type": "code",
   "execution_count": 4,
   "id": "21071147-7618-4661-835c-5638ac2d8c12",
   "metadata": {},
   "outputs": [
    {
     "name": "stdout",
     "output_type": "stream",
     "text": [
      " Raju\n"
     ]
    }
   ],
   "source": [
    "name=' Raju'\n",
    "print(name)"
   ]
  },
  {
   "cell_type": "code",
   "execution_count": 5,
   "id": "09f6b38e-ee39-4d59-9062-1d4b82e41759",
   "metadata": {},
   "outputs": [
    {
     "name": "stdout",
     "output_type": "stream",
     "text": [
      "Raju\n"
     ]
    }
   ],
   "source": [
    "print(name.lstrip())"
   ]
  },
  {
   "cell_type": "code",
   "execution_count": 6,
   "id": "c7b9c6cb-d62d-4bf5-97d6-01e9c795add2",
   "metadata": {},
   "outputs": [
    {
     "name": "stdout",
     "output_type": "stream",
     "text": [
      "Raju\n"
     ]
    }
   ],
   "source": [
    "name='Raju    '\n",
    "print(name.rstrip())"
   ]
  },
  {
   "cell_type": "code",
   "execution_count": 7,
   "id": "8c7fc33b-7a31-4657-b887-e996664cd2e6",
   "metadata": {},
   "outputs": [
    {
     "name": "stdout",
     "output_type": "stream",
     "text": [
      "Raju\n"
     ]
    }
   ],
   "source": [
    "name='    Raju    '\n",
    "print(name.strip())"
   ]
  },
  {
   "cell_type": "code",
   "execution_count": null,
   "id": "f1a0873b-1e62-42ce-a24e-69edd4ac2186",
   "metadata": {},
   "outputs": [],
   "source": []
  }
 ],
 "metadata": {
  "kernelspec": {
   "display_name": "Python 3 (ipykernel)",
   "language": "python",
   "name": "python3"
  },
  "language_info": {
   "codemirror_mode": {
    "name": "ipython",
    "version": 3
   },
   "file_extension": ".py",
   "mimetype": "text/x-python",
   "name": "python",
   "nbconvert_exporter": "python",
   "pygments_lexer": "ipython3",
   "version": "3.11.7"
  }
 },
 "nbformat": 4,
 "nbformat_minor": 5
}
