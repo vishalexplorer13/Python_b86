{
 "cells": [
  {
   "cell_type": "code",
   "execution_count": 1,
   "id": "3fe3fcf6-debd-4471-a365-2fed6136f796",
   "metadata": {},
   "outputs": [],
   "source": [
    "city=['mumbai','bangalore','pune','chennai','ratnagiri']"
   ]
  },
  {
   "cell_type": "code",
   "execution_count": 2,
   "id": "23e46368-7861-4bdf-aee7-8f4eee6d4a7c",
   "metadata": {},
   "outputs": [
    {
     "name": "stdout",
     "output_type": "stream",
     "text": [
      "['mumbai', 'bangalore', 'pune', 'chennai', 'ratnagiri']\n"
     ]
    }
   ],
   "source": [
    "print(city)"
   ]
  },
  {
   "cell_type": "code",
   "execution_count": 3,
   "id": "4d708eee-d59c-47b3-bc5b-94f97b9980e0",
   "metadata": {},
   "outputs": [
    {
     "data": {
      "text/plain": [
       "list"
      ]
     },
     "execution_count": 3,
     "metadata": {},
     "output_type": "execute_result"
    }
   ],
   "source": [
    "type(city)"
   ]
  },
  {
   "cell_type": "code",
   "execution_count": 5,
   "id": "b233b51e-6c41-42b0-a4b1-e725b2481b51",
   "metadata": {},
   "outputs": [
    {
     "name": "stdout",
     "output_type": "stream",
     "text": [
      "['mumbai', 'bangalore', 'pune', 'chennai', 'ratnagiri']\n"
     ]
    }
   ],
   "source": [
    "print(city)"
   ]
  },
  {
   "cell_type": "code",
   "execution_count": 16,
   "id": "6a24faad-e26e-463e-b7a4-c1f4d87f208a",
   "metadata": {},
   "outputs": [],
   "source": [
    "city.append('madurai')"
   ]
  },
  {
   "cell_type": "code",
   "execution_count": 17,
   "id": "2c4c5a5f-0a64-45b5-92c4-92cdc1641c73",
   "metadata": {},
   "outputs": [
    {
     "name": "stdout",
     "output_type": "stream",
     "text": [
      "['mumbai', 'bangalore', 'pune', 'vizag', 'chennai', 'ratnagiri', 'madurai', 'madurai', 'madurai']\n"
     ]
    }
   ],
   "source": [
    "print(city)"
   ]
  },
  {
   "cell_type": "code",
   "execution_count": 14,
   "id": "e9bb4df8-6e2b-429b-9599-4a8668443745",
   "metadata": {},
   "outputs": [],
   "source": [
    "city.insert(3,'vizag')"
   ]
  },
  {
   "cell_type": "code",
   "execution_count": 15,
   "id": "cd695c09-e43c-4383-89fa-b4f851cdccc0",
   "metadata": {},
   "outputs": [
    {
     "name": "stdout",
     "output_type": "stream",
     "text": [
      "['mumbai', 'bangalore', 'pune', 'vizag', 'chennai', 'ratnagiri', 'madurai', 'madurai']\n"
     ]
    }
   ],
   "source": [
    "print(city)"
   ]
  },
  {
   "cell_type": "code",
   "execution_count": 20,
   "id": "b7ccdf8d-37d5-4ac5-8c45-d33d83971c65",
   "metadata": {},
   "outputs": [],
   "source": [
    "del city[7]"
   ]
  },
  {
   "cell_type": "code",
   "execution_count": 21,
   "id": "1e0169b4-a8a0-4487-8d92-f790c1c2b5b9",
   "metadata": {},
   "outputs": [
    {
     "name": "stdout",
     "output_type": "stream",
     "text": [
      "['mumbai', 'bangalore', 'pune', 'vizag', 'chennai', 'ratnagiri', 'madurai', 'madurai']\n"
     ]
    }
   ],
   "source": [
    "print(city)"
   ]
  },
  {
   "cell_type": "code",
   "execution_count": 22,
   "id": "8e4278f6-28c3-4c2e-9a45-329a4f2ef18e",
   "metadata": {},
   "outputs": [],
   "source": [
    "del city[6]"
   ]
  },
  {
   "cell_type": "code",
   "execution_count": 23,
   "id": "f4373428-672a-4f90-886e-29cf802f12f1",
   "metadata": {},
   "outputs": [
    {
     "name": "stdout",
     "output_type": "stream",
     "text": [
      "['mumbai', 'bangalore', 'pune', 'vizag', 'chennai', 'ratnagiri', 'madurai']\n"
     ]
    }
   ],
   "source": [
    "print(city)"
   ]
  },
  {
   "cell_type": "code",
   "execution_count": 24,
   "id": "a4543523-5906-4e75-8b7b-f5aa570370d0",
   "metadata": {},
   "outputs": [],
   "source": [
    "y=city.pop()"
   ]
  },
  {
   "cell_type": "code",
   "execution_count": 25,
   "id": "234744fe-23d5-4322-8906-c0d470663c46",
   "metadata": {},
   "outputs": [
    {
     "name": "stdout",
     "output_type": "stream",
     "text": [
      "['mumbai', 'bangalore', 'pune', 'vizag', 'chennai', 'ratnagiri']\n"
     ]
    }
   ],
   "source": [
    "print(city)"
   ]
  },
  {
   "cell_type": "code",
   "execution_count": 26,
   "id": "8dc3feb7-de0c-40ae-86be-40f5fd8734d5",
   "metadata": {},
   "outputs": [
    {
     "name": "stdout",
     "output_type": "stream",
     "text": [
      "madurai\n"
     ]
    }
   ],
   "source": [
    "print(y)"
   ]
  },
  {
   "cell_type": "code",
   "execution_count": 27,
   "id": "d945360e-183f-4a8c-aab4-f454b3562aa2",
   "metadata": {},
   "outputs": [
    {
     "name": "stdout",
     "output_type": "stream",
     "text": [
      "['mumbai', 'bangalore', 'pune', 'vizag', 'chennai', 'ratnagiri']\n"
     ]
    }
   ],
   "source": [
    "print(city)"
   ]
  },
  {
   "cell_type": "code",
   "execution_count": 28,
   "id": "af30e850-2dbb-4c40-a0d7-919ce12095c0",
   "metadata": {},
   "outputs": [],
   "source": [
    "y=city.pop(0)"
   ]
  },
  {
   "cell_type": "code",
   "execution_count": 29,
   "id": "c97fdb21-1130-42e2-93bb-4d6afcd0e28e",
   "metadata": {},
   "outputs": [
    {
     "name": "stdout",
     "output_type": "stream",
     "text": [
      "['bangalore', 'pune', 'vizag', 'chennai', 'ratnagiri']\n"
     ]
    }
   ],
   "source": [
    "print(city)"
   ]
  },
  {
   "cell_type": "code",
   "execution_count": null,
   "id": "c09c89d5-b300-4ec5-b6df-870923320559",
   "metadata": {},
   "outputs": [],
   "source": [
    "del city"
   ]
  }
 ],
 "metadata": {
  "kernelspec": {
   "display_name": "Python 3 (ipykernel)",
   "language": "python",
   "name": "python3"
  },
  "language_info": {
   "codemirror_mode": {
    "name": "ipython",
    "version": 3
   },
   "file_extension": ".py",
   "mimetype": "text/x-python",
   "name": "python",
   "nbconvert_exporter": "python",
   "pygments_lexer": "ipython3",
   "version": "3.11.7"
  }
 },
 "nbformat": 4,
 "nbformat_minor": 5
}
