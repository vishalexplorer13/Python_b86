{
 "cells": [
  {
   "cell_type": "code",
   "execution_count": 1,
   "id": "0d403bdd-e474-4c1c-a8ac-7b5739210e13",
   "metadata": {},
   "outputs": [],
   "source": [
    "#Intro to Tuple data type"
   ]
  },
  {
   "cell_type": "code",
   "execution_count": 5,
   "id": "09baefcc-5056-48f9-b9e8-0ce9412ea16e",
   "metadata": {},
   "outputs": [],
   "source": [
    "# An immutable list is called as tuple"
   ]
  },
  {
   "cell_type": "code",
   "execution_count": 6,
   "id": "c353f02f-671f-4a05-b4f4-2cb7d8c22d93",
   "metadata": {},
   "outputs": [],
   "source": [
    "#classified as immuatble datatypes"
   ]
  },
  {
   "cell_type": "code",
   "execution_count": 12,
   "id": "48ba0128-c11b-4f22-999b-e1b5a67b41b2",
   "metadata": {},
   "outputs": [
    {
     "name": "stdout",
     "output_type": "stream",
     "text": [
      "(200, 400)\n"
     ]
    }
   ],
   "source": [
    "dimensions = (200,400)\n",
    "print(dimensions)"
   ]
  },
  {
   "cell_type": "code",
   "execution_count": 14,
   "id": "132de149-ef1a-4a3d-bbd3-bc6f9bbab881",
   "metadata": {},
   "outputs": [
    {
     "name": "stdout",
     "output_type": "stream",
     "text": [
      "('naveen', 'john', 'alisha')\n"
     ]
    }
   ],
   "source": [
    "friends=('naveen','john','alisha')\n",
    "print(friends)"
   ]
  },
  {
   "cell_type": "code",
   "execution_count": 15,
   "id": "9d337db8-5b91-491b-a7f6-7f4374940f2f",
   "metadata": {},
   "outputs": [
    {
     "data": {
      "text/plain": [
       "tuple"
      ]
     },
     "execution_count": 15,
     "metadata": {},
     "output_type": "execute_result"
    }
   ],
   "source": [
    "type(friends)"
   ]
  },
  {
   "cell_type": "code",
   "execution_count": 22,
   "id": "46533ccd-50a6-4024-9495-57a12d14934d",
   "metadata": {},
   "outputs": [
    {
     "name": "stdout",
     "output_type": "stream",
     "text": [
      "naveen\n",
      "john\n",
      "alisha\n"
     ]
    }
   ],
   "source": [
    "for x in friends:\n",
    " print(x)"
   ]
  },
  {
   "cell_type": "code",
   "execution_count": null,
   "id": "bd790eef-ec5e-439a-ad30-e3a497446047",
   "metadata": {},
   "outputs": [],
   "source": []
  },
  {
   "cell_type": "code",
   "execution_count": 25,
   "id": "b6a796f9-0143-4307-bb1a-357e6f71c08d",
   "metadata": {},
   "outputs": [],
   "source": [
    "#Introduction to dict\n",
    "#Dict is a combination of key value pairs.\n",
    "#{}"
   ]
  },
  {
   "cell_type": "code",
   "execution_count": 26,
   "id": "8a39b6d8-9906-48be-ac4b-eb0fe21af799",
   "metadata": {},
   "outputs": [],
   "source": [
    "alien={'color':'red','points':20}"
   ]
  },
  {
   "cell_type": "code",
   "execution_count": 27,
   "id": "2c080370-c140-4652-87fa-ae7d49ccabce",
   "metadata": {},
   "outputs": [
    {
     "name": "stdout",
     "output_type": "stream",
     "text": [
      "{'color': 'red', 'points': 20}\n"
     ]
    }
   ],
   "source": [
    "print(alien)"
   ]
  },
  {
   "cell_type": "code",
   "execution_count": 28,
   "id": "69b99603-f34c-463a-bf96-f545b141330f",
   "metadata": {},
   "outputs": [],
   "source": [
    "#start_position:level0"
   ]
  },
  {
   "cell_type": "code",
   "execution_count": 29,
   "id": "bf0a18d9-5c22-481e-8bb1-07e5f8207b4c",
   "metadata": {},
   "outputs": [],
   "source": [
    "alien['start_position']='level0'"
   ]
  },
  {
   "cell_type": "code",
   "execution_count": 30,
   "id": "01e68bbb-67ee-4805-84a2-fde5f234eb29",
   "metadata": {},
   "outputs": [
    {
     "name": "stdout",
     "output_type": "stream",
     "text": [
      "{'color': 'red', 'points': 20, 'start_position': 'level0'}\n"
     ]
    }
   ],
   "source": [
    "print(alien)"
   ]
  },
  {
   "cell_type": "code",
   "execution_count": 31,
   "id": "77bb2ecb-328f-4619-a0ca-af0499d3a2a9",
   "metadata": {},
   "outputs": [],
   "source": [
    "# Key will be acting as index pint in dict#"
   ]
  },
  {
   "cell_type": "code",
   "execution_count": 32,
   "id": "162508fb-435b-4cb3-9d31-2e376cee872d",
   "metadata": {},
   "outputs": [],
   "source": [
    "alien['end_position']='level5'"
   ]
  },
  {
   "cell_type": "code",
   "execution_count": 33,
   "id": "f9a64202-5527-4c66-bbbd-85e1e478ff82",
   "metadata": {},
   "outputs": [
    {
     "name": "stdout",
     "output_type": "stream",
     "text": [
      "{'color': 'red', 'points': 20, 'start_position': 'level0', 'end_position': 'level5'}\n"
     ]
    }
   ],
   "source": [
    "print(alien)"
   ]
  },
  {
   "cell_type": "code",
   "execution_count": 35,
   "id": "a5bfd004-5f01-410c-8ecf-5227d13f2981",
   "metadata": {},
   "outputs": [
    {
     "data": {
      "text/plain": [
       "20"
      ]
     },
     "execution_count": 35,
     "metadata": {},
     "output_type": "execute_result"
    }
   ],
   "source": [
    "alien['points']"
   ]
  },
  {
   "cell_type": "code",
   "execution_count": 36,
   "id": "f576b024-d869-4bb0-b83d-6483c4df29e8",
   "metadata": {},
   "outputs": [
    {
     "data": {
      "text/plain": [
       "'red'"
      ]
     },
     "execution_count": 36,
     "metadata": {},
     "output_type": "execute_result"
    }
   ],
   "source": [
    "alien['color']"
   ]
  },
  {
   "cell_type": "code",
   "execution_count": 37,
   "id": "9cea6f49-776b-4e84-8bc5-32b08b574882",
   "metadata": {},
   "outputs": [],
   "source": [
    "#Implimentation of FOR loops on the dict"
   ]
  },
  {
   "cell_type": "code",
   "execution_count": 52,
   "id": "3bd07cb3-c663-4802-92a1-170f6a0e96fc",
   "metadata": {},
   "outputs": [
    {
     "ename": "NameError",
     "evalue": "name 'mainvar' is not defined",
     "output_type": "error",
     "traceback": [
      "\u001b[1;31m---------------------------------------------------------------------------\u001b[0m",
      "\u001b[1;31mNameError\u001b[0m                                 Traceback (most recent call last)",
      "Cell \u001b[1;32mIn[52], line 1\u001b[0m\n\u001b[1;32m----> 1\u001b[0m \u001b[38;5;28;01mfor\u001b[39;00m tempvar1, tempvar \u001b[38;5;129;01min\u001b[39;00m mainvar\u001b[38;5;241m.\u001b[39mitems():\n\u001b[0;32m      2\u001b[0m  \u001b[38;5;28mprint\u001b[39m(tempvar1)\n\u001b[0;32m      3\u001b[0m  \u001b[38;5;28mprint\u001b[39m(tempvar2)\n",
      "\u001b[1;31mNameError\u001b[0m: name 'mainvar' is not defined"
     ]
    }
   ],
   "source": [
    "for tempvar1, tempvar in mainvar.items():\n",
    " print(tempvar1)\n",
    " print(tempvar2)\n"
   ]
  },
  {
   "cell_type": "code",
   "execution_count": 53,
   "id": "e3317f9a-6113-492e-9d63-a04def7cc7b9",
   "metadata": {},
   "outputs": [
    {
     "name": "stdout",
     "output_type": "stream",
     "text": [
      "{'color': 'red', 'points': 20, 'start_position': 'level0', 'end_position': 'level5'}\n"
     ]
    }
   ],
   "source": [
    "print(alien)\n"
   ]
  },
  {
   "cell_type": "code",
   "execution_count": 60,
   "id": "30c62765-33c5-4e36-bc5f-c897bc449a8a",
   "metadata": {},
   "outputs": [
    {
     "ename": "NameError",
     "evalue": "name 'mainvar' is not defined",
     "output_type": "error",
     "traceback": [
      "\u001b[1;31m---------------------------------------------------------------------------\u001b[0m",
      "\u001b[1;31mNameError\u001b[0m                                 Traceback (most recent call last)",
      "Cell \u001b[1;32mIn[60], line 1\u001b[0m\n\u001b[1;32m----> 1\u001b[0m \u001b[38;5;28;01mfor\u001b[39;00m tempvar1, tempvar \u001b[38;5;129;01min\u001b[39;00m mainvar\u001b[38;5;241m.\u001b[39mitems():\n\u001b[0;32m      2\u001b[0m  \u001b[38;5;28mprint\u001b[39m(tempvar1)\n\u001b[0;32m      3\u001b[0m  \u001b[38;5;28mprint\u001b[39m(tempvar2)\n",
      "\u001b[1;31mNameError\u001b[0m: name 'mainvar' is not defined"
     ]
    }
   ],
   "source": [
    "for tempvar1, tempvar in mainvar.items():\n",
    " print(tempvar1)\n",
    " print(tempvar2)"
   ]
  },
  {
   "cell_type": "code",
   "execution_count": null,
   "id": "04896f02-059f-497f-9408-d4e3b88800da",
   "metadata": {},
   "outputs": [],
   "source": []
  }
 ],
 "metadata": {
  "kernelspec": {
   "display_name": "Python 3 (ipykernel)",
   "language": "python",
   "name": "python3"
  },
  "language_info": {
   "codemirror_mode": {
    "name": "ipython",
    "version": 3
   },
   "file_extension": ".py",
   "mimetype": "text/x-python",
   "name": "python",
   "nbconvert_exporter": "python",
   "pygments_lexer": "ipython3",
   "version": "3.11.7"
  }
 },
 "nbformat": 4,
 "nbformat_minor": 5
}
