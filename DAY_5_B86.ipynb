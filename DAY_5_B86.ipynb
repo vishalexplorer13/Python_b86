{
 "cells": [
  {
   "cell_type": "code",
   "execution_count": 1,
   "id": "46a56a48-2ac7-4b47-ae45-9590f8db6227",
   "metadata": {},
   "outputs": [],
   "source": [
    "#organizing list datatype"
   ]
  },
  {
   "cell_type": "code",
   "execution_count": 2,
   "id": "724d84ff-46e8-4869-8b98-ac376a132344",
   "metadata": {},
   "outputs": [],
   "source": [
    "cars=['Maruti','Hyundia','Volkswagon','Mahindra','Benz','Audi','BMW','TATA']"
   ]
  },
  {
   "cell_type": "code",
   "execution_count": 3,
   "id": "fb2ea05d-9387-4214-ac51-e6b4fb624535",
   "metadata": {},
   "outputs": [
    {
     "name": "stdout",
     "output_type": "stream",
     "text": [
      "['Maruti', 'Hyundia', 'Volkswagon', 'Mahindra', 'Benz', 'Audi', 'BMW', 'TATA']\n"
     ]
    }
   ],
   "source": [
    "print(cars)"
   ]
  },
  {
   "cell_type": "code",
   "execution_count": 4,
   "id": "7a6eb042-2947-4fb9-a6c1-5e90a7ae2835",
   "metadata": {},
   "outputs": [
    {
     "name": "stdout",
     "output_type": "stream",
     "text": [
      "['Audi', 'BMW', 'Benz', 'Hyundia', 'Mahindra', 'Maruti', 'TATA', 'Volkswagon']\n"
     ]
    }
   ],
   "source": [
    "print(sorted(cars))"
   ]
  },
  {
   "cell_type": "code",
   "execution_count": 5,
   "id": "7f1d16e7-68e9-46cf-a1ec-98ecac2e9750",
   "metadata": {},
   "outputs": [],
   "source": [
    "#permanat changes"
   ]
  },
  {
   "cell_type": "code",
   "execution_count": 6,
   "id": "4a05ea35-37cd-4102-8abc-8aaa7e0334e3",
   "metadata": {},
   "outputs": [],
   "source": [
    "cars.sort()"
   ]
  },
  {
   "cell_type": "code",
   "execution_count": 8,
   "id": "3b9c2a42-cf12-4982-af5b-7d9036e86ce7",
   "metadata": {},
   "outputs": [
    {
     "name": "stdout",
     "output_type": "stream",
     "text": [
      "['Audi', 'BMW', 'Benz', 'Hyundia', 'Mahindra', 'Maruti', 'TATA', 'Volkswagon']\n"
     ]
    }
   ],
   "source": [
    "print(cars)"
   ]
  },
  {
   "cell_type": "code",
   "execution_count": 9,
   "id": "2c2b8cab-ab63-46ed-ac12-9c99d5129e9f",
   "metadata": {},
   "outputs": [],
   "source": [
    "# want list in reverse manner"
   ]
  },
  {
   "cell_type": "code",
   "execution_count": null,
   "id": "e112307e-9a73-404e-925d-2ff7a5838792",
   "metadata": {},
   "outputs": [],
   "source": [
    "cars."
   ]
  }
 ],
 "metadata": {
  "kernelspec": {
   "display_name": "Python 3 (ipykernel)",
   "language": "python",
   "name": "python3"
  },
  "language_info": {
   "codemirror_mode": {
    "name": "ipython",
    "version": 3
   },
   "file_extension": ".py",
   "mimetype": "text/x-python",
   "name": "python",
   "nbconvert_exporter": "python",
   "pygments_lexer": "ipython3",
   "version": "3.11.7"
  }
 },
 "nbformat": 4,
 "nbformat_minor": 5
}
